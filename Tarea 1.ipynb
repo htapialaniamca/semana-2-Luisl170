{
 "cells": [
  {
   "cell_type": "code",
   "execution_count": 1,
   "metadata": {
    "collapsed": true
   },
   "outputs": [],
   "source": [
    "import ipyparallel as ipp\n",
    "c = ipp.Client()\n",
    "dview = c.direct_view()"
   ]
  },
  {
   "cell_type": "markdown",
   "metadata": {},
   "source": [
    "# Ejercicios\n",
    "\n",
    "Determinar si un numero de la forma $2^n -1$, donde $n$ es un entero, es primo o no. Los primos que tienen esta forma se llaman primos de Mersenne.\n",
    "\n",
    "1.- Escribir una funcion que determine si el numero dado por $2^n -1$ es primo (usar la funcion anterior)"
   ]
  },
  {
   "cell_type": "code",
   "execution_count": 2,
   "metadata": {
    "collapsed": true
   },
   "outputs": [],
   "source": [
    "# Función que devuelve una lista con los numeros primos del 2 a n\n",
    "def prime(n):\n",
    "    nP = []\n",
    "    for i in xrange(2,n):\n",
    "        for j in xrange(2,i):\n",
    "            if (i % j == 0):\n",
    "                break\n",
    "        else:\n",
    "            nP.append(2**i-1)\n",
    "    return nP"
   ]
  },
  {
   "cell_type": "code",
   "execution_count": 3,
   "metadata": {
    "collapsed": true
   },
   "outputs": [],
   "source": [
    "# Función que devuelve x si es un numero primo de Mersenne\n",
    "PrimeM = lambda x: x if (all(x % i != 0 for i in range(int(x**0.5)+1)[2:]) and x>1) else None"
   ]
  },
  {
   "cell_type": "markdown",
   "metadata": {},
   "source": [
    "2.- Seleccionar los primos de Mersenne de entre los primeros 5000 numeros enteros (nota: el resultado es {2, 3, 5, 7, 13, 17, 19, 31, 61, 89, 107, 127, 521, 607, 1279, 2203, 2281, 3217, 4253, 4423}"
   ]
  },
  {
   "cell_type": "code",
   "execution_count": 14,
   "metadata": {
    "collapsed": false
   },
   "outputs": [
    {
     "data": {
      "text/plain": [
       "[3, 7, 31, 127, 8191]"
      ]
     },
     "execution_count": 14,
     "metadata": {},
     "output_type": "execute_result"
    }
   ],
   "source": [
    "# Código que devuelve una lista con los numeros primos de Mersenne usando las dos funciones anteriores\n",
    "filter(bool,list((map(PrimeM, prime(15)))))"
   ]
  },
  {
   "cell_type": "markdown",
   "metadata": {},
   "source": [
    "3.- Estimar el tiempo que su computadora tarda en encontrar los primero 5000 primos de Mersenne"
   ]
  },
  {
   "cell_type": "code",
   "execution_count": 15,
   "metadata": {
    "collapsed": false
   },
   "outputs": [
    {
     "name": "stdout",
     "output_type": "stream",
     "text": [
      "The slowest run took 6.58 times longer than the fastest. This could mean that an intermediate result is being cached.\n",
      "10000 loops, best of 3: 30.9 µs per loop\n"
     ]
    }
   ],
   "source": [
    "%timeit filter(bool,list((map(PrimeM, prime(15)))))"
   ]
  },
  {
   "cell_type": "code",
   "execution_count": 4,
   "metadata": {
    "collapsed": false
   },
   "outputs": [
    {
     "name": "stdout",
     "output_type": "stream",
     "text": [
      "The slowest run took 48.98 times longer than the fastest. This could mean that an intermediate result is being cached.\n",
      "1 loop, best of 3: 26.2 ms per loop\n"
     ]
    }
   ],
   "source": [
    "%timeit filter(bool,list((dview.map_sync(PrimeM, prime(15)))))"
   ]
  },
  {
   "cell_type": "markdown",
   "metadata": {
    "collapsed": true
   },
   "source": [
    "# Tarea\n",
    "\n",
    "1.- Estudiar la informacion contenida en el archivo /.ipython/profile_default/security/ipcontroller-client.json y explicar en un parrafo que significa. Leer la documentacion"
   ]
  },
  {
   "cell_type": "code",
   "execution_count": null,
   "metadata": {
    "collapsed": true
   },
   "outputs": [],
   "source": [
    "# %load ~/.ipython/profile_default/security/ipcontroller-client.json\n",
    "{\n",
    "  \"control\": 62163, \n",
    "  \"task\": 62169, \n",
    "  \"notification\": 62173, \n",
    "  \"task_scheme\": \"leastload\", \n",
    "  \"mux\": 62165, \n",
    "  \"iopub\": 62171, \n",
    "  \"ssh\": \"\", \n",
    "  \"key\": \"22bddeae-97f7-4a8d-bfe5-91f422425951\", \n",
    "  \"registration\": 62161, \n",
    "  \"interface\": \"tcp://127.0.0.1\", \n",
    "  \"signature_scheme\": \"hmac-sha256\", \n",
    "  \"pack\": \"json\", \n",
    "  \"unpack\": \"json\", \n",
    "  \"location\": \"192.168.10.181\"\n",
    "}"
   ]
  },
  {
   "cell_type": "markdown",
   "metadata": {},
   "source": [
    "# ipcontroller-client.json\n",
    "\n",
    "El fichero ipcontroller-client.json contiene información relacionada al cliente para que este pueda conectarse y autenticarse al controlador el cual es el proceso que administra la comunicación y el paso de mensajes y datos"
   ]
  },
  {
   "cell_type": "markdown",
   "metadata": {},
   "source": [
    "2.- Investigar el uso de los metodos apply,apply_sync de las instancias DirectView (el objeto dview) y discutir las diferencias con map y map_sync, por medio de ejemplos. (Ver la documentacion)"
   ]
  },
  {
   "cell_type": "markdown",
   "metadata": {},
   "source": [
    "La función <span style=\"color: green\">_map_</span> permite aplicar una funcion dada a cada elemento de un iterable (lista,tupla, etc.) de manera **secuencial** y devolver una lista de los resultados."
   ]
  },
  {
   "cell_type": "code",
   "execution_count": 6,
   "metadata": {
    "collapsed": false
   },
   "outputs": [
    {
     "name": "stdout",
     "output_type": "stream",
     "text": [
      "100000 loops, best of 3: 7.13 µs per loop\n"
     ]
    }
   ],
   "source": [
    "%timeit serial_result = map(lambda x:x**10, range(32))"
   ]
  },
  {
   "cell_type": "markdown",
   "metadata": {},
   "source": [
    "La función <span style=\"color: green\">_map__sync_</span> utiliza los motores para aplicar de forma **paralelizada** una funcion dada a cada elemento de un iterable (lista,tupla, etc.) y devolver una lista de los resultados."
   ]
  },
  {
   "cell_type": "code",
   "execution_count": 8,
   "metadata": {
    "collapsed": false
   },
   "outputs": [
    {
     "name": "stdout",
     "output_type": "stream",
     "text": [
      "10 loops, best of 3: 40.9 ms per loop\n"
     ]
    }
   ],
   "source": [
    "%timeit parallel_result = dview.map_sync(lambda x: x**10, range(32))"
   ]
  },
  {
   "cell_type": "markdown",
   "metadata": {},
   "source": [
    "La función <span style=\"color: green\">_apply_</span> permite ejecutar una funcion de forma paralelizada (sin bloqueo) usando los motores del objeto DirectView, en caso de que los motores asignados esten ocupado regresa un objeto _AsyncResult_ el cual puede ser concultado porteriormente mediante get()"
   ]
  },
  {
   "cell_type": "code",
   "execution_count": 12,
   "metadata": {
    "collapsed": false
   },
   "outputs": [],
   "source": [
    "AS = dview.apply(lambda: \"hola clase\")"
   ]
  },
  {
   "cell_type": "code",
   "execution_count": 13,
   "metadata": {
    "collapsed": false
   },
   "outputs": [
    {
     "data": {
      "text/plain": [
       "['hola clase',\n",
       " 'hola clase',\n",
       " 'hola clase',\n",
       " 'hola clase',\n",
       " 'hola clase',\n",
       " 'hola clase',\n",
       " 'hola clase',\n",
       " 'hola clase']"
      ]
     },
     "execution_count": 13,
     "metadata": {},
     "output_type": "execute_result"
    }
   ],
   "source": [
    "AS.get()"
   ]
  },
  {
   "cell_type": "markdown",
   "metadata": {},
   "source": [
    "La función <span style=\"color: green\">_apply__sync_</span> permite ejecutar una funcion de forma paralelizada (con bloqueo) usando los motores del objeto DirectView"
   ]
  },
  {
   "cell_type": "code",
   "execution_count": 16,
   "metadata": {
    "collapsed": false
   },
   "outputs": [
    {
     "data": {
      "text/plain": [
       "['hola clase',\n",
       " 'hola clase',\n",
       " 'hola clase',\n",
       " 'hola clase',\n",
       " 'hola clase',\n",
       " 'hola clase',\n",
       " 'hola clase',\n",
       " 'hola clase']"
      ]
     },
     "execution_count": 16,
     "metadata": {},
     "output_type": "execute_result"
    }
   ],
   "source": [
    "dview.apply_sync(lambda: \"hola clase\")"
   ]
  },
  {
   "cell_type": "markdown",
   "metadata": {},
   "source": [
    "3.- Determinar que partes de un programa que encuentra los primeros 5000 primos de Mersenne son paralelizables y sugerir como podrian paralelizarlo"
   ]
  },
  {
   "cell_type": "markdown",
   "metadata": {},
   "source": [
    "4.- Aplicar el metodo apply y/o map descritos aqui al programa que selecciona los primos de Mersenne de entre los primeros 5000 numeros enteros"
   ]
  }
 ],
 "metadata": {
  "kernelspec": {
   "display_name": "Python 2",
   "language": "python",
   "name": "python2"
  },
  "language_info": {
   "codemirror_mode": {
    "name": "ipython",
    "version": 2
   },
   "file_extension": ".py",
   "mimetype": "text/x-python",
   "name": "python",
   "nbconvert_exporter": "python",
   "pygments_lexer": "ipython2",
   "version": "2.7.13"
  }
 },
 "nbformat": 4,
 "nbformat_minor": 2
}
