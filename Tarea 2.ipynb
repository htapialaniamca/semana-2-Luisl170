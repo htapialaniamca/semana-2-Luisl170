{
 "cells": [
  {
   "cell_type": "code",
   "execution_count": 37,
   "metadata": {
    "collapsed": true
   },
   "outputs": [],
   "source": [
    "import numpy as np\n",
    "import matplotlib.pyplot as plt\n",
    "import time\n",
    "%matplotlib inline"
   ]
  },
  {
   "cell_type": "markdown",
   "metadata": {},
   "source": [
    "# PrimeQ"
   ]
  },
  {
   "cell_type": "code",
   "execution_count": 22,
   "metadata": {
    "collapsed": true
   },
   "outputs": [],
   "source": [
    "def PrimeQ(x):\n",
    "    import numpy as np\n",
    "    return all(x % i for i in np.arange(int(x**0.5)+1)[2:])"
   ]
  },
  {
   "cell_type": "code",
   "execution_count": 23,
   "metadata": {
    "collapsed": true
   },
   "outputs": [
    {
     "data": {
      "text/plain": [
       "{1: 4.696846008300781e-05,\n",
       " 2: 2.2172927856445312e-05,\n",
       " 3: 0.000102996826171875,\n",
       " 4: 2.002716064453125e-05,\n",
       " 5: 1.3828277587890625e-05,\n",
       " 6: 9.059906005859375e-06,\n",
       " 7: 2.5033950805664062e-05,\n",
       " 8: 9.059906005859375e-06,\n",
       " 9: 1.3113021850585938e-05,\n",
       " 10: 1.1920928955078125e-05,\n",
       " 11: 0.00019502639770507812,\n",
       " 12: 1.7881393432617188e-05,\n",
       " 13: 4.506111145019531e-05,\n",
       " 14: 7.867813110351562e-06,\n",
       " 15: 1.6927719116210938e-05,\n",
       " 16: 1.0013580322265625e-05,\n",
       " 17: 0.00021505355834960938,\n",
       " 18: 2.002716064453125e-05,\n",
       " 19: 0.00034809112548828125,\n",
       " 20: 2.288818359375e-05,\n",
       " 21: 1.6927719116210938e-05,\n",
       " 22: 1.3113021850585938e-05,\n",
       " 23: 3.1948089599609375e-05,\n",
       " 24: 1.9073486328125e-05,\n",
       " 25: 0.00017189979553222656}"
      ]
     },
     "execution_count": 23,
     "metadata": {},
     "output_type": "execute_result"
    }
   ],
   "source": [
    "PQTimes = {}\n",
    "for i in range(1,26):\n",
    "    start_time = time.time()\n",
    "    PrimeQ(2**i-1)\n",
    "    end_time = time.time() - start_time\n",
    "    PQTimes[i] = end_time\n",
    "PQTimes"
   ]
  },
  {
   "cell_type": "code",
   "execution_count": 39,
   "metadata": {
    "collapsed": false
   },
   "outputs": [
    {
     "data": {
      "image/png": "[encoded data removed]",
      "text/plain": [
       "<matplotlib.figure.Figure at 0x11a34e590>"
      ]
     },
     "metadata": {},
     "output_type": "display_data"
    }
   ],
   "source": [
    "plt.bar(range(len(PQTimes)), PQTimes.values(), align='center')\n",
    "plt.xticks(range(len(PQTimes)), PQTimes.keys())\n",
    "plt.show()"
   ]
  },
  {
   "cell_type": "markdown",
   "metadata": {},
   "source": [
    "# PrimeQ1"
   ]
  },
  {
   "cell_type": "code",
   "execution_count": 24,
   "metadata": {
    "collapsed": true
   },
   "outputs": [],
   "source": [
    "def PrimeQ1(x):\n",
    "    import numpy as np\n",
    "    return np.all(np.array([x % i for i in np.arange(int(x**0.5)+1)[2:]]))"
   ]
  },
  {
   "cell_type": "code",
   "execution_count": 26,
   "metadata": {
    "collapsed": true
   },
   "outputs": [
    {
     "data": {
      "text/plain": [
       "{1: 8.0108642578125e-05,\n",
       " 2: 2.9087066650390625e-05,\n",
       " 3: 4.696846008300781e-05,\n",
       " 4: 5.2928924560546875e-05,\n",
       " 5: 3.4809112548828125e-05,\n",
       " 6: 2.9802322387695312e-05,\n",
       " 7: 7.104873657226562e-05,\n",
       " 8: 5.0067901611328125e-05,\n",
       " 9: 4.1961669921875e-05,\n",
       " 10: 4.506111145019531e-05,\n",
       " 11: 5.1975250244140625e-05,\n",
       " 12: 6.794929504394531e-05,\n",
       " 13: 9.417533874511719e-05,\n",
       " 14: 0.00010991096496582031,\n",
       " 15: 0.00014495849609375,\n",
       " 16: 0.00028705596923828125,\n",
       " 17: 0.0002570152282714844,\n",
       " 18: 0.0003330707550048828,\n",
       " 19: 0.00046515464782714844,\n",
       " 20: 0.0004971027374267578,\n",
       " 21: 0.0009799003601074219,\n",
       " 22: 0.0013310909271240234,\n",
       " 23: 0.0017387866973876953,\n",
       " 24: 0.0023012161254882812,\n",
       " 25: 0.0028810501098632812}"
      ]
     },
     "execution_count": 26,
     "metadata": {},
     "output_type": "execute_result"
    }
   ],
   "source": [
    "PQTimes1 = {}\n",
    "for i in range(1,26):\n",
    "    start_time = time.time()\n",
    "    PrimeQ1(2**i-1)\n",
    "    end_time = time.time() - start_time\n",
    "    PQTimes1[i] = end_time\n",
    "PQTimes1"
   ]
  },
  {
   "cell_type": "code",
   "execution_count": 40,
   "metadata": {
    "collapsed": false
   },
   "outputs": [
    {
     "data": {
      "image/png": "[encoded data removed]",
      "text/plain": [
       "<matplotlib.figure.Figure at 0x11a56c050>"
      ]
     },
     "metadata": {},
     "output_type": "display_data"
    }
   ],
   "source": [
    "plt.bar(range(len(PQTimes1)), PQTimes1.values(), align='center')\n",
    "plt.xticks(range(len(PQTimes1)), PQTimes1.keys())\n",
    "plt.show()"
   ]
  },
  {
   "cell_type": "markdown",
   "metadata": {},
   "source": [
    "# PrimeQ2"
   ]
  },
  {
   "cell_type": "code",
   "execution_count": 28,
   "metadata": {
    "collapsed": true
   },
   "outputs": [],
   "source": [
    "def PrimeQ2(x):\n",
    "    import numpy as np\n",
    "    lista = np.arange(int(x**0.5)+1)[2:]\n",
    "    residuos = np.mod(x,lista)\n",
    "    return np.all(residuos)"
   ]
  },
  {
   "cell_type": "code",
   "execution_count": 30,
   "metadata": {
    "collapsed": true
   },
   "outputs": [
    {
     "data": {
      "text/plain": [
       "{1: 0.0001068115234375,\n",
       " 2: 4.887580871582031e-05,\n",
       " 3: 4.1961669921875e-05,\n",
       " 4: 2.9087066650390625e-05,\n",
       " 5: 2.5987625122070312e-05,\n",
       " 6: 1.9073486328125e-05,\n",
       " 7: 2.384185791015625e-05,\n",
       " 8: 1.7881393432617188e-05,\n",
       " 9: 2.002716064453125e-05,\n",
       " 10: 1.71661376953125e-05,\n",
       " 11: 1.7881393432617188e-05,\n",
       " 12: 2.09808349609375e-05,\n",
       " 13: 2.09808349609375e-05,\n",
       " 14: 2.002716064453125e-05,\n",
       " 15: 2.288818359375e-05,\n",
       " 16: 2.4080276489257812e-05,\n",
       " 17: 2.5033950805664062e-05,\n",
       " 18: 2.8133392333984375e-05,\n",
       " 19: 3.0994415283203125e-05,\n",
       " 20: 3.695487976074219e-05,\n",
       " 21: 4.291534423828125e-05,\n",
       " 22: 5.316734313964844e-05,\n",
       " 23: 7.605552673339844e-05,\n",
       " 24: 0.0002779960632324219,\n",
       " 25: 0.00017404556274414062}"
      ]
     },
     "execution_count": 30,
     "metadata": {},
     "output_type": "execute_result"
    }
   ],
   "source": [
    "PQTimes2 = {}\n",
    "for i in range(1,26):\n",
    "    start_time = time.time()\n",
    "    PrimeQ2(2**i-1)\n",
    "    end_time = time.time() - start_time\n",
    "    PQTimes2[i] = end_time\n",
    "PQTimes2"
   ]
  },
  {
   "cell_type": "code",
   "execution_count": 41,
   "metadata": {
    "collapsed": false
   },
   "outputs": [
    {
     "data": {
      "image/png": "[encoded data removed]",
      "text/plain": [
       "<matplotlib.figure.Figure at 0x11a531510>"
      ]
     },
     "metadata": {},
     "output_type": "display_data"
    }
   ],
   "source": [
    "plt.bar(range(len(PQTimes2)), PQTimes2.values(), align='center')\n",
    "plt.xticks(range(len(PQTimes2)), PQTimes2.keys())\n",
    "plt.show()"
   ]
  },
  {
   "cell_type": "code",
   "execution_count": null,
   "metadata": {
    "collapsed": true
   },
   "outputs": [],
   "source": []
  }
 ],
 "metadata": {
  "kernelspec": {
   "display_name": "Python 2",
   "language": "python",
   "name": "python2"
  }
 },
 "nbformat": 4,
 "nbformat_minor": 2
}
